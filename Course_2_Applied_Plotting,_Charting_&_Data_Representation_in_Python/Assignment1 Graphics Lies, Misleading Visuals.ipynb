{
 "cells": [
  {
   "cell_type": "markdown",
   "metadata": {},
   "source": [
    "# Assignment 1 - Graphics Lies, Misleading Visuals\n",
    "## Instructions\n",
    "\n",
    "For this assignment, you will read Alberto Cairo's work, [Graphics Lies, Misleading Visuals](https://infovis.fh-potsdam.de/readings/Cairo2015.pdf). <br>\n",
    "You will locate and identify a visual that displays misleading information. You will interpret the features of the visual in order to identify the mechanism(s) that is/are used by the \"encoder\" to mislead the \"decoder.\" For each mechanism that you identify, you will explain how it was used to mislead.<br>\n",
    "\n",
    "**Review criteria**<br>\n",
    "Each component of the assignment will be graded by a peer-reviewer, using a detailed rubric.\n",
    "\n",
    "**Step-By-Step Assignment Instructions**<br>\n",
    "Read Alberto Cairo’s work, Graphics Lies, Misleading Visuals<br>\n",
    "Locate an example of a misleading visual that uses one or more of the mechanisms for misleading that Cairo outlines in his book chapter: hiding relevant data, displaying too much data and obscuring reality, and distorting data through graphic forms\n",
    "\n",
    "*Hint: You may want to use google or bing image search with a parameter such as \"information visualization\", or \"scientific poster chart\" or similar in order to find visualizations to critique. You might also want to consider looking on the subreddits dataisbeautiful or dataisugly. Be creative in your search!*\n",
    "\n",
    "1. Upload an image of this visual\n",
    "2. Provide a link or a reference to the source of the visual (e.g., the article in which the visual appears)\n",
    "3. Respond to the prompts that ask you to provide context for the visual and to identify the misleading mechanism(s) that is/are used"
   ]
  },
  {
   "cell_type": "markdown",
   "metadata": {},
   "source": [
    "### Prompt 1\n",
    "Read Alberto Cairo’s work, Graphics Lies, Misleading Visuals <br>\n",
    "\n",
    "Locate an example of a misleading visual that uses one or more of the mechanisms for misleading that Cairo outlines in his book chapter: <br>\n",
    "(1) Hiding relevant data; <br>\n",
    "(2) Displaying too much data and obscuring reality; <br>\n",
    "(3) Distorting data through visual forms.<br>\n",
    "\n",
    "Please upload an image of this visual using a widely accessible graphic format (e.g., PDF, .jpg, .png)"
   ]
  },
  {
   "cell_type": "markdown",
   "metadata": {},
   "source": [
    "**America's high school graduation rate has increased to an all-time high**\n",
    "![America's high school graduation rate has increased to an all-time high](https://s3.amazonaws.com/coursera-uploads/peer-review/92ab272b2f513a4928c6765ad01463c0/high_school_diploma_chart.jpg)"
   ]
  },
  {
   "cell_type": "markdown",
   "metadata": {},
   "source": [
    "### Prompt 2\n",
    "*Briefly describe the context for the visual by addressing the following questions:* <br>\n",
    "\n",
    "*1. What is the source of the visual? (e.g., URL or bibliographic citation)* <br>\n",
    "*2. Who is the intended audience (i.e., decoders)? How do you know this?* <br>\n",
    "\n",
    "\n",
    "Source of the chart is [Washington Post's article](https://www.washingtonpost.com/local/education/high-school-graduation-rate-hits-all-time-high-82-percent-finish-on-time/2015/12/15/4211457a-a335-11e5-9c4e-be37f66848bb_story.html?utm_term=.da20b886942e) that was cited in WhiteHouse tweeter with the image of the chart.<br>\n",
    "The intended audience is readers of the newspaper and the followers of White House's account on Twitter.com. The chart was intended to illustrate how high the graduation rates are which would indicate a successfulness of government’s policies."
   ]
  },
  {
   "cell_type": "code",
   "execution_count": 6,
   "metadata": {},
   "outputs": [
    {
     "data": {
      "text/html": [
       "\n",
       "<blockquote class=\"twitter-tweet\" data-lang=\"en\"><p lang=\"en\" dir=\"ltr\">Good news: America&#39;s high school graduation rate has increased to an all-time high.🎓 <a href=\"https://t.co/Ih564hAo2u\">https://t.co/Ih564hAo2u</a> <a href=\"https://t.co/C4h5JdIvwQ\">pic.twitter.com/C4h5JdIvwQ</a></p>&mdash; White House Archived (@ObamaWhiteHouse) <a href=\"https://twitter.com/ObamaWhiteHouse/status/677189256834609152?ref_src=twsrc%5Etfw\">December 16, 2015</a></blockquote>\n",
       "<script async src=\"https://platform.twitter.com/widgets.js\" charset=\"utf-8\"></script>\n",
       "\n"
      ],
      "text/plain": [
       "<__main__.Tweet at 0x1e0eadf4d68>"
      ]
     },
     "execution_count": 6,
     "metadata": {},
     "output_type": "execute_result"
    }
   ],
   "source": [
    "class Tweet(object):\n",
    "    def __init__(self, embed_str=None):\n",
    "        self.embed_str = embed_str\n",
    "\n",
    "    def _repr_html_(self):\n",
    "        return self.embed_str\n",
    "\n",
    "s = (\"\"\"\n",
    "<blockquote class=\"twitter-tweet\" data-lang=\"en\"><p lang=\"en\" dir=\"ltr\">Good news: America&#39;s high school graduation rate has increased to an all-time high.🎓 <a href=\"https://t.co/Ih564hAo2u\">https://t.co/Ih564hAo2u</a> <a href=\"https://t.co/C4h5JdIvwQ\">pic.twitter.com/C4h5JdIvwQ</a></p>&mdash; White House Archived (@ObamaWhiteHouse) <a href=\"https://twitter.com/ObamaWhiteHouse/status/677189256834609152?ref_src=twsrc%5Etfw\">December 16, 2015</a></blockquote>\n",
    "<script async src=\"https://platform.twitter.com/widgets.js\" charset=\"utf-8\"></script>\n",
    "\n",
    "\"\"\")\n",
    "Tweet(s)"
   ]
  },
  {
   "cell_type": "markdown",
   "metadata": {},
   "source": [
    "### Prompt 3\n",
    "\n",
    "*1. Identify the specific component(s) of the visual that is/are misleading* <br>\n",
    "*2. For each part(s) of the visualization that is/are misleading, identify the mechanism that is used: hiding relevant data to highlight what benefits us; displaying too much data to obscure reality; using graphic forms in inappropriate ways (distorting the data)*<br>\n",
    "*3. Explain how the mechanisms are used to mislead* <br>\n",
    "\n",
    "\n",
    "1. There is no zero for y-axis so the difference between years looks more dramatic than it actually is: difference between first and last pile is only 7% but on the chart is looks like good 30%.\n",
    "It’s confusing how many percent one book equals to: comparing second and third pile we can derive that 3% equals to 5 book which is 0.6% per book, while if we compare third and fourth piles 1% equals to 4 books which is 0.25% per book.\n",
    "\n",
    "\n",
    "2. There is an evidence of hiding relevant data (absence of zero on the y-axis) to benefit the message that the chart is supposed to make that the graduation rates has significantly increased.\n",
    "Also, the graphic forms (the books) are used in an inappropriate way that results in distorting the data and misleading the views.\n",
    "\n",
    "\n",
    "3. By removing the zero on a chart, the difference between periods looks much bigger than it actually is, if the same data would be mapped on a chart with zero visible than the growth of the graduation rate would look more flat.\n",
    "Usage of the books to illustrate percentage would help the viewers to remember the topic that the chart is supposed to represent but it misleads to think that the change between time periods is more dramatic than it is."
   ]
  }
 ],
 "metadata": {
  "kernelspec": {
   "display_name": "Python 3",
   "language": "python",
   "name": "python3"
  },
  "language_info": {
   "codemirror_mode": {
    "name": "ipython",
    "version": 3
   },
   "file_extension": ".py",
   "mimetype": "text/x-python",
   "name": "python",
   "nbconvert_exporter": "python",
   "pygments_lexer": "ipython3",
   "version": "3.7.0"
  }
 },
 "nbformat": 4,
 "nbformat_minor": 2
}
